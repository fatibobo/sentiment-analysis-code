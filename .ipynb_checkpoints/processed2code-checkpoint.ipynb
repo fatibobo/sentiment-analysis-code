{
 "cells": [
  {
   "cell_type": "code",
   "execution_count": 1,
   "id": "1cbf0cf4",
   "metadata": {},
   "outputs": [
    {
     "data": {
      "text/html": [
       "<div>\n",
       "<style scoped>\n",
       "    .dataframe tbody tr th:only-of-type {\n",
       "        vertical-align: middle;\n",
       "    }\n",
       "\n",
       "    .dataframe tbody tr th {\n",
       "        vertical-align: top;\n",
       "    }\n",
       "\n",
       "    .dataframe thead th {\n",
       "        text-align: right;\n",
       "    }\n",
       "</style>\n",
       "<table border=\"1\" class=\"dataframe\">\n",
       "  <thead>\n",
       "    <tr style=\"text-align: right;\">\n",
       "      <th></th>\n",
       "      <th>Yelp URL</th>\n",
       "      <th>Rating</th>\n",
       "      <th>Date</th>\n",
       "      <th>Review Text</th>\n",
       "    </tr>\n",
       "  </thead>\n",
       "  <tbody>\n",
       "    <tr>\n",
       "      <th>0</th>\n",
       "      <td>https://www.yelp.com/biz/sidney-dairy-barn-sidney</td>\n",
       "      <td>5</td>\n",
       "      <td>1/22/2022</td>\n",
       "      <td>All I can say is they have very good ice cream...</td>\n",
       "    </tr>\n",
       "    <tr>\n",
       "      <th>1</th>\n",
       "      <td>https://www.yelp.com/biz/sidney-dairy-barn-sidney</td>\n",
       "      <td>4</td>\n",
       "      <td>6/26/2022</td>\n",
       "      <td>Nice little local place for ice cream.My favor...</td>\n",
       "    </tr>\n",
       "    <tr>\n",
       "      <th>2</th>\n",
       "      <td>https://www.yelp.com/biz/sidney-dairy-barn-sidney</td>\n",
       "      <td>5</td>\n",
       "      <td>8/7/2021</td>\n",
       "      <td>A delicious treat on a hot day! Staff was very...</td>\n",
       "    </tr>\n",
       "    <tr>\n",
       "      <th>3</th>\n",
       "      <td>https://www.yelp.com/biz/sidney-dairy-barn-sidney</td>\n",
       "      <td>4</td>\n",
       "      <td>7/28/2016</td>\n",
       "      <td>This was great service and a fun crew! I got t...</td>\n",
       "    </tr>\n",
       "    <tr>\n",
       "      <th>4</th>\n",
       "      <td>https://www.yelp.com/biz/sidney-dairy-barn-sidney</td>\n",
       "      <td>5</td>\n",
       "      <td>6/23/2015</td>\n",
       "      <td>This is one of my favorite places to get ice c...</td>\n",
       "    </tr>\n",
       "  </tbody>\n",
       "</table>\n",
       "</div>"
      ],
      "text/plain": [
       "                                            Yelp URL  Rating       Date  \\\n",
       "0  https://www.yelp.com/biz/sidney-dairy-barn-sidney       5  1/22/2022   \n",
       "1  https://www.yelp.com/biz/sidney-dairy-barn-sidney       4  6/26/2022   \n",
       "2  https://www.yelp.com/biz/sidney-dairy-barn-sidney       5   8/7/2021   \n",
       "3  https://www.yelp.com/biz/sidney-dairy-barn-sidney       4  7/28/2016   \n",
       "4  https://www.yelp.com/biz/sidney-dairy-barn-sidney       5  6/23/2015   \n",
       "\n",
       "                                         Review Text  \n",
       "0  All I can say is they have very good ice cream...  \n",
       "1  Nice little local place for ice cream.My favor...  \n",
       "2  A delicious treat on a hot day! Staff was very...  \n",
       "3  This was great service and a fun crew! I got t...  \n",
       "4  This is one of my favorite places to get ice c...  "
      ]
     },
     "execution_count": 1,
     "metadata": {},
     "output_type": "execute_result"
    }
   ],
   "source": [
    "# Import the necessary libraries\n",
    "import pandas as pd\n",
    "import numpy as np\n",
    "\n",
    "# Read the dataset\n",
    "data = pd.read_csv(r\"C:\\Users\\wisdo\\OneDrive\\Desktop\\Desertation\\Yelp Restaurant Reviews.csv\")\n",
    "df = pd.DataFrame(data)\n",
    "\n",
    "# read the first 5 records\n",
    "df.head()"
   ]
  },
  {
   "cell_type": "code",
   "execution_count": null,
   "id": "ef1212ac",
   "metadata": {},
   "outputs": [],
   "source": []
  }
 ],
 "metadata": {
  "kernelspec": {
   "display_name": "Python 3 (ipykernel)",
   "language": "python",
   "name": "python3"
  },
  "language_info": {
   "codemirror_mode": {
    "name": "ipython",
    "version": 3
   },
   "file_extension": ".py",
   "mimetype": "text/x-python",
   "name": "python",
   "nbconvert_exporter": "python",
   "pygments_lexer": "ipython3",
   "version": "3.10.7"
  }
 },
 "nbformat": 4,
 "nbformat_minor": 5
}
